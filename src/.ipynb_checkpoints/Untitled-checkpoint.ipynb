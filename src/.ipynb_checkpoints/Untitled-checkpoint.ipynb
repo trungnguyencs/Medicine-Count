{
 "cells": [
  {
   "cell_type": "code",
   "execution_count": null,
   "metadata": {
    "collapsed": true
   },
   "outputs": [],
   "source": [
    "def most_frequent(file_name):           # DO NOT CHANGE THIS LINE \n",
    "  result1 = ''                          # DO NOT CHANGE THIS LINE \n",
    "  result2 = 0                           # DO NOT CHANGE THIS LINE \n",
    "  f = open(file_name, 'r')\n",
    "  data = f.read()\n",
    "  f.close()\n",
    "  \n",
    "  clean_data = data.lower()\n",
    "  words = clean_data.split()\n",
    "  \n",
    "  word_dict = {}\n",
    "  for word in words:\n",
    "    if word not in word_dict:\n",
    "      word_dict[word] = 1\n",
    "    else:\n",
    "      word_dict[word] += 1\n",
    "  reverse = {v:k for k,v in word_dict.items()}\n",
    "  result1 = reverse[max(reverse)]\n",
    "  result2 = max(reverse)\n",
    "  return result1, result2\n",
    "\n",
    "\n",
    "import sys  \n",
    "import os\n",
    "\n",
    "\n",
    "\n",
    "# inpfile = sys.argv[1]\n",
    "# inpfile = 'itcont.txt'\n",
    "file_path = 'Iliad.txt'\n",
    "  \n",
    "def main():  \n",
    "    filepath = sys.argv[1]\n",
    "\n",
    "    if not os.path.isfile(filepath):\n",
    "        print(\"File path %s does not exist. Exiting...\" %(filepath))\n",
    "        sys.exit()\n",
    "\n",
    "    bag_of_words = {}\n",
    "\n",
    "    with open(filepath) as fp:\n",
    "        cnt = 0\n",
    "        for line in fp:\n",
    "            # print(line)\n",
    "            record_word_cnt(line.strip().split(' '), bag_of_words)\n",
    "            cnt += 1\n",
    "    sorted_words = order_bag_of_words(bag_of_words, desc=True)\n",
    "\n",
    "def order_bag_of_words(bag_of_words, desc=False):  \n",
    "    words = [(word, cnt) for word, cnt in bag_of_words.items()]\n",
    "    return sorted(words, key=lambda x: x[1], reverse=desc)\n",
    "\n",
    "def record_word_cnt(words, bag_of_words):  \n",
    "    for word in words:\n",
    "        if word != '':\n",
    "            if word.lower() in bag_of_words:\n",
    "                bag_of_words[word.lower()] += 1\n",
    "            else:\n",
    "                bag_of_words[word.lower()] = 1\n",
    "\n",
    "if __name__ == '__main__':  \n",
    "    main()\n",
    "\n"
   ]
  }
 ],
 "metadata": {
  "kernelspec": {
   "display_name": "Python [conda env:py35]",
   "language": "python",
   "name": "conda-env-py35-py"
  },
  "language_info": {
   "codemirror_mode": {
    "name": "ipython",
    "version": 3
   },
   "file_extension": ".py",
   "mimetype": "text/x-python",
   "name": "python",
   "nbconvert_exporter": "python",
   "pygments_lexer": "ipython3",
   "version": "3.5.3"
  }
 },
 "nbformat": 4,
 "nbformat_minor": 2
}
